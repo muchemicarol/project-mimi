{
  "nbformat": 4,
  "nbformat_minor": 0,
  "metadata": {
    "colab": {
      "name": "PROJECT_MIMI_Securities.ipynb",
      "provenance": []
    },
    "kernelspec": {
      "name": "python3",
      "display_name": "Python 3"
    },
    "language_info": {
      "name": "python"
    }
  },
  "cells": [
    {
      "cell_type": "code",
      "metadata": {
        "id": "cwh9J_ddX9dj"
      },
      "source": [
        "import os\n",
        "\n",
        "import numpy as np\n",
        "import pandas as pd\n",
        "import xlrd\n",
        "\n",
        "pd.set_option(\"display.max_rows\", 50000)"
      ],
      "execution_count": 1,
      "outputs": []
    },
    {
      "cell_type": "code",
      "metadata": {
        "colab": {
          "base_uri": "https://localhost:8080/"
        },
        "id": "XH_0CAXrS7ua",
        "outputId": "45326cdd-8532-4d4a-9146-4baa7f0048cf"
      },
      "source": [
        "from google.colab import drive\n",
        "drive.mount('/content/drive')"
      ],
      "execution_count": 2,
      "outputs": [
        {
          "output_type": "stream",
          "text": [
            "Mounted at /content/drive\n"
          ],
          "name": "stdout"
        }
      ]
    },
    {
      "cell_type": "code",
      "metadata": {
        "id": "VwZCMVlBYHEd",
        "colab": {
          "base_uri": "https://localhost:8080/"
        },
        "outputId": "7a4f7d7b-eeee-4589-d711-709b30649d84"
      },
      "source": [
        "fundamentals = pd.read_csv(\"/content/drive/MyDrive/Fiverr/PROJECT_MIMI/Fundamentals_Full.csv\", na_values=' ')"
      ],
      "execution_count": 3,
      "outputs": [
        {
          "output_type": "stream",
          "text": [
            "/usr/local/lib/python3.7/dist-packages/IPython/core/interactiveshell.py:2718: DtypeWarning: Columns (9,25,29,916,917,919,920,926,935,937,940,941,942,943,945,955,956,959,962,965,970,978,981,984,989,992,993,997,998,1008,1009,1014,1015,1016,1017,1018,1019,1020,1021,1024,1025,1028,1029,1031,1033,1034,1035,1036,1040,1041,1042,1052,1053,1054,1055,1056,1057,1058,1059,1066,1071,1072,1074,1075,1076,1077,1081,1084,1091,1094,1096,1098,1101,1102,1103,1105,1106,1107,1108,1116,1117,1119,1120,1121,1122,1123,1124,1125,1735,1736,1737,1742,1756,1757,1762) have mixed types.Specify dtype option on import or set low_memory=False.\n",
            "  interactivity=interactivity, compiler=compiler, result=result)\n"
          ],
          "name": "stderr"
        }
      ]
    },
    {
      "cell_type": "code",
      "metadata": {
        "id": "xLBFUOxAYHB7"
      },
      "source": [
        "securities = pd.read_csv(\"/content/drive/MyDrive/Fiverr/PROJECT_MIMI/Securities_Full.csv\", na_values=' ', parse_dates=[\"datadate\"])"
      ],
      "execution_count": 4,
      "outputs": []
    },
    {
      "cell_type": "code",
      "metadata": {
        "colab": {
          "base_uri": "https://localhost:8080/"
        },
        "id": "Kk-y374iV28f",
        "outputId": "f68d2738-547d-4834-f7cf-9e9430b25f6d"
      },
      "source": [
        "fund_settlement = pd.read_csv(\"/content/drive/MyDrive/Fiverr/PROJECT_MIMI/Fund_Settlement.csv\")"
      ],
      "execution_count": 5,
      "outputs": [
        {
          "output_type": "stream",
          "text": [
            "/usr/local/lib/python3.7/dist-packages/IPython/core/interactiveshell.py:2718: DtypeWarning: Columns (9,25,29,916,917,919,920,926,935,937,940,941,942,943,945,955,956,959,962,965,970,978,981,984,989,992,993,997,998,1008,1009,1014,1015,1016,1017,1018,1019,1020,1021,1024,1025,1028,1029,1031,1033,1034,1035,1036,1040,1041,1042,1052,1053,1054,1055,1056,1057,1058,1059,1066,1071,1072,1074,1075,1076,1077,1081,1084,1091,1094,1096,1098,1101,1102,1103,1105,1106,1107,1108,1116,1117,1119,1120,1121,1122,1123,1124,1125,1735,1736,1737,1742,1756,1757,1762) have mixed types.Specify dtype option on import or set low_memory=False.\n",
            "  interactivity=interactivity, compiler=compiler, result=result)\n"
          ],
          "name": "stderr"
        }
      ]
    },
    {
      "cell_type": "code",
      "metadata": {
        "id": "KE9fCWmjYG_P"
      },
      "source": [
        "def excel_to_dictionary(sheetname, filename=\"/content/drive/MyDrive/Fiverr/PROJECT_MIMI/DataDictionary.xlsx\"):\n",
        "    abbreviation_dict = dict()\n",
        "    \n",
        "    abbreviation = xlrd.open_workbook(os.path.abspath(filename))\n",
        "    abbreviation_sheet = abbreviation.sheet_by_name(sheetname)\n",
        "    \n",
        "    for i in range(1, abbreviation_sheet.nrows):\n",
        "        abb = abbreviation_sheet.cell(i, 0).value\n",
        "        abb_definition = abbreviation_sheet.cell(i, 1).value\n",
        "        abbreviation_dict[abb] = abb_definition\n",
        "        \n",
        "    return abbreviation_dict"
      ],
      "execution_count": 6,
      "outputs": []
    },
    {
      "cell_type": "code",
      "metadata": {
        "id": "tjiZB_NOYG8v"
      },
      "source": [
        "securities_dict = excel_to_dictionary(sheetname=\"Securities\")\n",
        "fundamentals_dict = excel_to_dictionary(sheetname=\"Fundamentals\")"
      ],
      "execution_count": 7,
      "outputs": []
    },
    {
      "cell_type": "code",
      "metadata": {
        "colab": {
          "base_uri": "https://localhost:8080/"
        },
        "id": "-SFp8AfRVI6o",
        "outputId": "f4091997-8486-4618-99e8-7a43e6aca7a3"
      },
      "source": [
        "cols = [col.lower() for col in [\"Dvpspm\", \"Dvpsxm\", \"Dvrate\", \"Csfsm\", \"Cahtrm\", \"Curcdm\"]]\n",
        "\n",
        "abbreviation_dict = dict()\n",
        "    \n",
        "abbreviation = xlrd.open_workbook(os.path.abspath(\"/content/drive/MyDrive/Fiverr/PROJECT_MIMI/DataDictionary.xlsx\"))\n",
        "abbreviation_sheet = abbreviation.sheet_by_name(\"Securities\")\n",
        "    \n",
        "for i in range(1, abbreviation_sheet.nrows):\n",
        "  abb = abbreviation_sheet.cell(i, 0).value\n",
        "  abb_definition = abbreviation_sheet.cell(i, 1).value\n",
        "  abbreviation_dict[abb] = abb_definition\n",
        "\n",
        "for col in cols:\n",
        "  for key, value in abbreviation_dict.items():\n",
        "    if key == col:\n",
        "      print(\"{}: {}\".format(key, value))"
      ],
      "execution_count": 8,
      "outputs": [
        {
          "output_type": "stream",
          "text": [
            "dvpspm: Dividends per Share - Pay Date - Monthly\n",
            "dvpsxm: Dividends per Share - Ex Date - Monthly\n",
            "dvrate: Dividend Rate - Monthly\n",
            "csfsm: Common Stock Float Shares - Canada\n",
            "curcdm: ISO Currency Code - Monthly\n"
          ],
          "name": "stdout"
        }
      ]
    },
    {
      "cell_type": "code",
      "metadata": {
        "id": "LNLLybuZYG6T"
      },
      "source": [
        "def rename_columns(df, df_dict):\n",
        "  df.rename(columns=df_dict, inplace=True)\n",
        "  df.columns = [column.lower().replace(\" \", \"_\") for column in df.columns]\n",
        "  return df"
      ],
      "execution_count": 9,
      "outputs": []
    },
    {
      "cell_type": "code",
      "metadata": {
        "id": "5e2ioD3lYG3q"
      },
      "source": [
        "securities = rename_columns(securities, securities_dict)\n",
        "fundamentals = rename_columns(fundamentals, fundamentals_dict)"
      ],
      "execution_count": 10,
      "outputs": []
    },
    {
      "cell_type": "code",
      "metadata": {
        "id": "7ekcn9ex9k50"
      },
      "source": [
        "securities[\"year\"] = securities['data_date_-_security_monthly'].apply(lambda x: x.strftime(\"%Y\"))"
      ],
      "execution_count": 11,
      "outputs": []
    },
    {
      "cell_type": "code",
      "metadata": {
        "id": "ruWvtgstYGyY",
        "colab": {
          "base_uri": "https://localhost:8080/",
          "height": 314
        },
        "outputId": "7663d120-b37c-4488-f0b8-70e2e9854f11"
      },
      "source": [
        "securities[securities[\"global_company_key\"] == 316056][[\"global_company_key\", \"data_date_-_security_monthly\", \"year\", \"dividend_rate_-_monthly\", 'dividends_per_share_-_ex_date_-_monthly', 'dividends_per_share_-_pay_date_-_monthly', 'common_stock_float_shares_-_canada', 'iso_currency_code_-_monthly']].tail(10)"
      ],
      "execution_count": 12,
      "outputs": [
        {
          "output_type": "execute_result",
          "data": {
            "text/html": [
              "<div>\n",
              "<style scoped>\n",
              "    .dataframe tbody tr th:only-of-type {\n",
              "        vertical-align: middle;\n",
              "    }\n",
              "\n",
              "    .dataframe tbody tr th {\n",
              "        vertical-align: top;\n",
              "    }\n",
              "\n",
              "    .dataframe thead th {\n",
              "        text-align: right;\n",
              "    }\n",
              "</style>\n",
              "<table border=\"1\" class=\"dataframe\">\n",
              "  <thead>\n",
              "    <tr style=\"text-align: right;\">\n",
              "      <th></th>\n",
              "      <th>global_company_key</th>\n",
              "      <th>data_date_-_security_monthly</th>\n",
              "      <th>year</th>\n",
              "      <th>dividend_rate_-_monthly</th>\n",
              "      <th>dividends_per_share_-_ex_date_-_monthly</th>\n",
              "      <th>dividends_per_share_-_pay_date_-_monthly</th>\n",
              "      <th>common_stock_float_shares_-_canada</th>\n",
              "      <th>iso_currency_code_-_monthly</th>\n",
              "    </tr>\n",
              "  </thead>\n",
              "  <tbody>\n",
              "    <tr>\n",
              "      <th>915374</th>\n",
              "      <td>316056</td>\n",
              "      <td>2013-11-30</td>\n",
              "      <td>2013</td>\n",
              "      <td>NaN</td>\n",
              "      <td>NaN</td>\n",
              "      <td>NaN</td>\n",
              "      <td>NaN</td>\n",
              "      <td>USD</td>\n",
              "    </tr>\n",
              "    <tr>\n",
              "      <th>915375</th>\n",
              "      <td>316056</td>\n",
              "      <td>2013-12-31</td>\n",
              "      <td>2013</td>\n",
              "      <td>NaN</td>\n",
              "      <td>NaN</td>\n",
              "      <td>NaN</td>\n",
              "      <td>NaN</td>\n",
              "      <td>USD</td>\n",
              "    </tr>\n",
              "    <tr>\n",
              "      <th>915376</th>\n",
              "      <td>316056</td>\n",
              "      <td>2014-01-31</td>\n",
              "      <td>2014</td>\n",
              "      <td>NaN</td>\n",
              "      <td>NaN</td>\n",
              "      <td>NaN</td>\n",
              "      <td>NaN</td>\n",
              "      <td>USD</td>\n",
              "    </tr>\n",
              "    <tr>\n",
              "      <th>915377</th>\n",
              "      <td>316056</td>\n",
              "      <td>2014-02-28</td>\n",
              "      <td>2014</td>\n",
              "      <td>NaN</td>\n",
              "      <td>NaN</td>\n",
              "      <td>NaN</td>\n",
              "      <td>NaN</td>\n",
              "      <td>USD</td>\n",
              "    </tr>\n",
              "    <tr>\n",
              "      <th>915378</th>\n",
              "      <td>316056</td>\n",
              "      <td>2014-03-31</td>\n",
              "      <td>2014</td>\n",
              "      <td>0.32</td>\n",
              "      <td>0.08</td>\n",
              "      <td>0.08</td>\n",
              "      <td>NaN</td>\n",
              "      <td>USD</td>\n",
              "    </tr>\n",
              "    <tr>\n",
              "      <th>915379</th>\n",
              "      <td>316056</td>\n",
              "      <td>2014-04-30</td>\n",
              "      <td>2014</td>\n",
              "      <td>0.32</td>\n",
              "      <td>NaN</td>\n",
              "      <td>NaN</td>\n",
              "      <td>NaN</td>\n",
              "      <td>USD</td>\n",
              "    </tr>\n",
              "    <tr>\n",
              "      <th>915380</th>\n",
              "      <td>316056</td>\n",
              "      <td>2014-05-31</td>\n",
              "      <td>2014</td>\n",
              "      <td>0.32</td>\n",
              "      <td>NaN</td>\n",
              "      <td>NaN</td>\n",
              "      <td>NaN</td>\n",
              "      <td>USD</td>\n",
              "    </tr>\n",
              "    <tr>\n",
              "      <th>915381</th>\n",
              "      <td>316056</td>\n",
              "      <td>2014-06-30</td>\n",
              "      <td>2014</td>\n",
              "      <td>0.32</td>\n",
              "      <td>0.08</td>\n",
              "      <td>0.08</td>\n",
              "      <td>NaN</td>\n",
              "      <td>USD</td>\n",
              "    </tr>\n",
              "  </tbody>\n",
              "</table>\n",
              "</div>"
            ],
            "text/plain": [
              "        global_company_key  ... iso_currency_code_-_monthly\n",
              "915374              316056  ...                         USD\n",
              "915375              316056  ...                         USD\n",
              "915376              316056  ...                         USD\n",
              "915377              316056  ...                         USD\n",
              "915378              316056  ...                         USD\n",
              "915379              316056  ...                         USD\n",
              "915380              316056  ...                         USD\n",
              "915381              316056  ...                         USD\n",
              "\n",
              "[8 rows x 8 columns]"
            ]
          },
          "metadata": {
            "tags": []
          },
          "execution_count": 12
        }
      ]
    },
    {
      "cell_type": "code",
      "metadata": {
        "colab": {
          "base_uri": "https://localhost:8080/"
        },
        "id": "Pnd02sIgUDaL",
        "outputId": "2e97bb2c-0b9b-4b83-c8e7-95bbf799cd81"
      },
      "source": [
        "securities.shape"
      ],
      "execution_count": 13,
      "outputs": [
        {
          "output_type": "execute_result",
          "data": {
            "text/plain": [
              "(915386, 56)"
            ]
          },
          "metadata": {
            "tags": []
          },
          "execution_count": 13
        }
      ]
    },
    {
      "cell_type": "code",
      "metadata": {
        "id": "Gj-bY0T-P2aY"
      },
      "source": [
        "securities = securities.groupby([\"global_company_key\", \"year\", \"iso_currency_code_-_monthly\"])[[\"dividend_rate_-_monthly\", \"dividends_per_share_-_ex_date_-_monthly\", 'dividends_per_share_-_pay_date_-_monthly', 'common_stock_float_shares_-_canada']].agg(\"sum\").reset_index()"
      ],
      "execution_count": 14,
      "outputs": []
    },
    {
      "cell_type": "code",
      "metadata": {
        "colab": {
          "base_uri": "https://localhost:8080/"
        },
        "id": "322NJAmfhbpi",
        "outputId": "b16558e1-f105-4c81-cf58-8dfdd064b9b4"
      },
      "source": [
        "securities.shape"
      ],
      "execution_count": 15,
      "outputs": [
        {
          "output_type": "execute_result",
          "data": {
            "text/plain": [
              "(90109, 7)"
            ]
          },
          "metadata": {
            "tags": []
          },
          "execution_count": 15
        }
      ]
    },
    {
      "cell_type": "code",
      "metadata": {
        "id": "CDvCABHlQ7TS"
      },
      "source": [
        "securities = securities.groupby([\"global_company_key\", \"iso_currency_code_-_monthly\"])[[\"dividend_rate_-_monthly\", \"dividends_per_share_-_ex_date_-_monthly\", 'dividends_per_share_-_pay_date_-_monthly', 'common_stock_float_shares_-_canada']].agg(\"mean\").reset_index()"
      ],
      "execution_count": 16,
      "outputs": []
    },
    {
      "cell_type": "code",
      "metadata": {
        "colab": {
          "base_uri": "https://localhost:8080/"
        },
        "id": "4wkCziydRwtS",
        "outputId": "a67389eb-38a8-458d-8886-e3b2abb5eac0"
      },
      "source": [
        "securities.shape"
      ],
      "execution_count": 17,
      "outputs": [
        {
          "output_type": "execute_result",
          "data": {
            "text/plain": [
              "(22463, 6)"
            ]
          },
          "metadata": {
            "tags": []
          },
          "execution_count": 17
        }
      ]
    },
    {
      "cell_type": "code",
      "metadata": {
        "colab": {
          "base_uri": "https://localhost:8080/"
        },
        "id": "AbyL5hqsWG4A",
        "outputId": "7e80e3c2-5d72-4cb7-8470-8f8cf2d7e0b3"
      },
      "source": [
        "fund_settlement[\"sued\"].unique()"
      ],
      "execution_count": 18,
      "outputs": [
        {
          "output_type": "execute_result",
          "data": {
            "text/plain": [
              "array(['no', 'yes'], dtype=object)"
            ]
          },
          "metadata": {
            "tags": []
          },
          "execution_count": 18
        }
      ]
    },
    {
      "cell_type": "code",
      "metadata": {
        "id": "K3-eA1gDUAOL"
      },
      "source": [
        "fund_security = pd.merge(fund_settlement, securities, on=\"global_company_key\")"
      ],
      "execution_count": 19,
      "outputs": []
    },
    {
      "cell_type": "code",
      "metadata": {
        "colab": {
          "base_uri": "https://localhost:8080/",
          "height": 314
        },
        "id": "Y25JQOU9UQqn",
        "outputId": "ce5b4cc6-259d-45ba-ebc3-d2f8d0497467"
      },
      "source": [
        "fund_security[fund_security[\"global_company_key\"] == 316056][[\"global_company_key\", \"dividend_rate_-_monthly\", 'dividends_per_share_-_ex_date_-_monthly', 'dividends_per_share_-_pay_date_-_monthly', 'common_stock_float_shares_-_canada', 'iso_currency_code_-_monthly', \"settlementamount\", \"sued\", \"ticker_symbol\"]].tail(10)"
      ],
      "execution_count": 20,
      "outputs": [
        {
          "output_type": "execute_result",
          "data": {
            "text/html": [
              "<div>\n",
              "<style scoped>\n",
              "    .dataframe tbody tr th:only-of-type {\n",
              "        vertical-align: middle;\n",
              "    }\n",
              "\n",
              "    .dataframe tbody tr th {\n",
              "        vertical-align: top;\n",
              "    }\n",
              "\n",
              "    .dataframe thead th {\n",
              "        text-align: right;\n",
              "    }\n",
              "</style>\n",
              "<table border=\"1\" class=\"dataframe\">\n",
              "  <thead>\n",
              "    <tr style=\"text-align: right;\">\n",
              "      <th></th>\n",
              "      <th>global_company_key</th>\n",
              "      <th>dividend_rate_-_monthly</th>\n",
              "      <th>dividends_per_share_-_ex_date_-_monthly</th>\n",
              "      <th>dividends_per_share_-_pay_date_-_monthly</th>\n",
              "      <th>common_stock_float_shares_-_canada</th>\n",
              "      <th>iso_currency_code_-_monthly</th>\n",
              "      <th>settlementamount</th>\n",
              "      <th>sued</th>\n",
              "      <th>ticker_symbol</th>\n",
              "    </tr>\n",
              "  </thead>\n",
              "  <tbody>\n",
              "    <tr>\n",
              "      <th>60443</th>\n",
              "      <td>316056</td>\n",
              "      <td>0.64</td>\n",
              "      <td>0.08</td>\n",
              "      <td>0.08</td>\n",
              "      <td>0.0</td>\n",
              "      <td>USD</td>\n",
              "      <td>NaN</td>\n",
              "      <td>no</td>\n",
              "      <td>ALLE</td>\n",
              "    </tr>\n",
              "    <tr>\n",
              "      <th>60444</th>\n",
              "      <td>316056</td>\n",
              "      <td>0.64</td>\n",
              "      <td>0.08</td>\n",
              "      <td>0.08</td>\n",
              "      <td>0.0</td>\n",
              "      <td>USD</td>\n",
              "      <td>NaN</td>\n",
              "      <td>no</td>\n",
              "      <td>ALLE</td>\n",
              "    </tr>\n",
              "    <tr>\n",
              "      <th>60445</th>\n",
              "      <td>316056</td>\n",
              "      <td>0.64</td>\n",
              "      <td>0.08</td>\n",
              "      <td>0.08</td>\n",
              "      <td>0.0</td>\n",
              "      <td>USD</td>\n",
              "      <td>NaN</td>\n",
              "      <td>no</td>\n",
              "      <td>ALLE</td>\n",
              "    </tr>\n",
              "    <tr>\n",
              "      <th>60446</th>\n",
              "      <td>316056</td>\n",
              "      <td>0.64</td>\n",
              "      <td>0.08</td>\n",
              "      <td>0.08</td>\n",
              "      <td>0.0</td>\n",
              "      <td>USD</td>\n",
              "      <td>NaN</td>\n",
              "      <td>no</td>\n",
              "      <td>ALLE</td>\n",
              "    </tr>\n",
              "    <tr>\n",
              "      <th>60447</th>\n",
              "      <td>316056</td>\n",
              "      <td>0.64</td>\n",
              "      <td>0.08</td>\n",
              "      <td>0.08</td>\n",
              "      <td>0.0</td>\n",
              "      <td>USD</td>\n",
              "      <td>NaN</td>\n",
              "      <td>no</td>\n",
              "      <td>ALLE</td>\n",
              "    </tr>\n",
              "    <tr>\n",
              "      <th>60448</th>\n",
              "      <td>316056</td>\n",
              "      <td>0.64</td>\n",
              "      <td>0.08</td>\n",
              "      <td>0.08</td>\n",
              "      <td>0.0</td>\n",
              "      <td>USD</td>\n",
              "      <td>NaN</td>\n",
              "      <td>no</td>\n",
              "      <td>ALLE</td>\n",
              "    </tr>\n",
              "    <tr>\n",
              "      <th>60449</th>\n",
              "      <td>316056</td>\n",
              "      <td>0.64</td>\n",
              "      <td>0.08</td>\n",
              "      <td>0.08</td>\n",
              "      <td>0.0</td>\n",
              "      <td>USD</td>\n",
              "      <td>NaN</td>\n",
              "      <td>no</td>\n",
              "      <td>ALLE</td>\n",
              "    </tr>\n",
              "    <tr>\n",
              "      <th>60450</th>\n",
              "      <td>316056</td>\n",
              "      <td>0.64</td>\n",
              "      <td>0.08</td>\n",
              "      <td>0.08</td>\n",
              "      <td>0.0</td>\n",
              "      <td>USD</td>\n",
              "      <td>NaN</td>\n",
              "      <td>no</td>\n",
              "      <td>ALLE</td>\n",
              "    </tr>\n",
              "  </tbody>\n",
              "</table>\n",
              "</div>"
            ],
            "text/plain": [
              "       global_company_key  dividend_rate_-_monthly  ...  sued  ticker_symbol\n",
              "60443              316056                     0.64  ...    no           ALLE\n",
              "60444              316056                     0.64  ...    no           ALLE\n",
              "60445              316056                     0.64  ...    no           ALLE\n",
              "60446              316056                     0.64  ...    no           ALLE\n",
              "60447              316056                     0.64  ...    no           ALLE\n",
              "60448              316056                     0.64  ...    no           ALLE\n",
              "60449              316056                     0.64  ...    no           ALLE\n",
              "60450              316056                     0.64  ...    no           ALLE\n",
              "\n",
              "[8 rows x 9 columns]"
            ]
          },
          "metadata": {
            "tags": []
          },
          "execution_count": 20
        }
      ]
    },
    {
      "cell_type": "code",
      "metadata": {
        "id": "F9PqzUU8URvD"
      },
      "source": [
        "fund_security.to_csv(\"/content/drive/MyDrive/Fiverr/PROJECT_MIMI/Fund_Settlement_Security.csv\", index=False)"
      ],
      "execution_count": 21,
      "outputs": []
    },
    {
      "cell_type": "code",
      "metadata": {
        "colab": {
          "base_uri": "https://localhost:8080/"
        },
        "id": "sZD3TcOdasyX",
        "outputId": "048e6edf-958e-43ab-d638-b8f47aa14a91"
      },
      "source": [
        "securities[securities[\"iso_currency_code_-_monthly\"] == \"CAD\"].loc[21698]"
      ],
      "execution_count": 22,
      "outputs": [
        {
          "output_type": "execute_result",
          "data": {
            "text/plain": [
              "global_company_key                            198955\n",
              "iso_currency_code_-_monthly                      CAD\n",
              "dividend_rate_-_monthly                        5.876\n",
              "dividends_per_share_-_ex_date_-_monthly     0.501267\n",
              "dividends_per_share_-_pay_date_-_monthly    0.475587\n",
              "common_stock_float_shares_-_canada                 0\n",
              "Name: 21698, dtype: object"
            ]
          },
          "metadata": {
            "tags": []
          },
          "execution_count": 22
        }
      ]
    },
    {
      "cell_type": "code",
      "metadata": {
        "colab": {
          "base_uri": "https://localhost:8080/"
        },
        "id": "h7sccZHOgeBR",
        "outputId": "d2a4ceaa-c7ea-419f-e075-ab073ab65b7b"
      },
      "source": [
        "fund_security.shape"
      ],
      "execution_count": 23,
      "outputs": [
        {
          "output_type": "execute_result",
          "data": {
            "text/plain": [
              "(60453, 1775)"
            ]
          },
          "metadata": {
            "tags": []
          },
          "execution_count": 23
        }
      ]
    }
  ]
}