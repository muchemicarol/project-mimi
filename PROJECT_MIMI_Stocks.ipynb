{
  "nbformat": 4,
  "nbformat_minor": 0,
  "metadata": {
    "colab": {
      "name": "PROJECT_MIMI_Stocks.ipynb",
      "provenance": [],
      "collapsed_sections": []
    },
    "kernelspec": {
      "name": "python3",
      "display_name": "Python 3"
    },
    "language_info": {
      "name": "python"
    }
  },
  "cells": [
    {
      "cell_type": "code",
      "metadata": {
        "id": "rVZsMfjYE6ui"
      },
      "source": [
        "import os\n",
        "\n",
        "import matplotlib.pyplot as plt\n",
        "import numpy as np\n",
        "import pandas as pd\n",
        "import seaborn as sns\n",
        "import xlrd\n",
        "\n",
        "sns.set(rc={\"figure.figsize\": (12, 10)})\n",
        "pd.set_option(\"display.max_rows\", 50000)"
      ],
      "execution_count": 1,
      "outputs": []
    },
    {
      "cell_type": "code",
      "metadata": {
        "id": "WwDl7f73O0pZ",
        "colab": {
          "base_uri": "https://localhost:8080/"
        },
        "outputId": "caffd12c-dc28-4f5e-bcef-c0c7ef1b109d"
      },
      "source": [
        "from google.colab import drive\n",
        "drive.mount('/content/drive')"
      ],
      "execution_count": 2,
      "outputs": [
        {
          "output_type": "stream",
          "text": [
            "Drive already mounted at /content/drive; to attempt to forcibly remount, call drive.mount(\"/content/drive\", force_remount=True).\n"
          ],
          "name": "stdout"
        }
      ]
    },
    {
      "cell_type": "code",
      "metadata": {
        "colab": {
          "base_uri": "https://localhost:8080/"
        },
        "id": "HxBZY4JUFNHL",
        "outputId": "019cd022-1d54-4a25-eeb7-e084f02f138a"
      },
      "source": [
        "stocks = pd.read_csv(\"/content/drive/MyDrive/Fiverr/PROJECT_MIMI/Stocks_DS_tab_delimited.dat\", sep=\"\\t\", na_values=' ', parse_dates=[\"datadate\"])"
      ],
      "execution_count": 3,
      "outputs": [
        {
          "output_type": "stream",
          "text": [
            "/usr/local/lib/python3.7/dist-packages/IPython/core/interactiveshell.py:2718: DtypeWarning: Columns (1,4,6,11,14,15,16,17,18,19,20,21,38,42,43,44,45,50,52,53,60,64,65,70,71,74,75) have mixed types.Specify dtype option on import or set low_memory=False.\n",
            "  interactivity=interactivity, compiler=compiler, result=result)\n"
          ],
          "name": "stderr"
        }
      ]
    },
    {
      "cell_type": "code",
      "metadata": {
        "id": "58Q0xIu0eeRx",
        "colab": {
          "base_uri": "https://localhost:8080/"
        },
        "outputId": "804fdb24-9001-4db6-afff-2ffe908adb4a"
      },
      "source": [
        "fundamentals = pd.read_csv(\"/content/drive/MyDrive/Fiverr/PROJECT_MIMI/Fundamentals_Full.csv\", na_values=' ')"
      ],
      "execution_count": 4,
      "outputs": [
        {
          "output_type": "stream",
          "text": [
            "/usr/local/lib/python3.7/dist-packages/IPython/core/interactiveshell.py:2718: DtypeWarning: Columns (9,25,29,916,917,919,920,926,935,937,940,941,942,943,945,955,956,959,962,965,970,978,981,984,989,992,993,997,998,1008,1009,1014,1015,1016,1017,1018,1019,1020,1021,1024,1025,1028,1029,1031,1033,1034,1035,1036,1040,1041,1042,1052,1053,1054,1055,1056,1057,1058,1059,1066,1071,1072,1074,1075,1076,1077,1081,1084,1091,1094,1096,1098,1101,1102,1103,1105,1106,1107,1108,1116,1117,1119,1120,1121,1122,1123,1124,1125,1735,1736,1737,1742,1756,1757,1762) have mixed types.Specify dtype option on import or set low_memory=False.\n",
            "  interactivity=interactivity, compiler=compiler, result=result)\n"
          ],
          "name": "stderr"
        }
      ]
    },
    {
      "cell_type": "code",
      "metadata": {
        "id": "mm3PY0Dkd8aM",
        "colab": {
          "base_uri": "https://localhost:8080/"
        },
        "outputId": "380c609e-9f4d-4728-b840-914d6ca823a1"
      },
      "source": [
        "fund_security = pd.read_csv(\"/content/drive/MyDrive/Fiverr/PROJECT_MIMI/Fund_Settlement_Security.csv\")"
      ],
      "execution_count": 5,
      "outputs": [
        {
          "output_type": "stream",
          "text": [
            "/usr/local/lib/python3.7/dist-packages/IPython/core/interactiveshell.py:2718: DtypeWarning: Columns (9,15,25,29,916,917,919,920,926,935,936,937,940,941,942,943,945,950,951,952,953,955,956,959,962,965,970,974,978,984,989,992,993,996,997,998,1008,1009,1014,1015,1016,1017,1018,1019,1020,1021,1024,1025,1028,1029,1030,1031,1033,1034,1035,1036,1038,1040,1041,1042,1043,1044,1045,1046,1047,1048,1049,1052,1053,1054,1055,1056,1057,1058,1059,1066,1071,1072,1074,1075,1076,1077,1081,1082,1083,1084,1091,1094,1096,1098,1101,1102,1103,1105,1106,1107,1108,1113,1114,1115,1116,1117,1119,1120,1121,1122,1123,1124,1125,1735,1736,1737,1742,1756,1757,1762,1766) have mixed types.Specify dtype option on import or set low_memory=False.\n",
            "  interactivity=interactivity, compiler=compiler, result=result)\n"
          ],
          "name": "stderr"
        }
      ]
    },
    {
      "cell_type": "code",
      "metadata": {
        "id": "ASQdabCxGjAu"
      },
      "source": [
        "def excel_to_dictionary(sheetname, filename=\"/content/drive/MyDrive/Fiverr/PROJECT_MIMI/DataDictionary.xlsx\"):\n",
        "    abbreviation_dict = dict()\n",
        "    \n",
        "    abbreviation = xlrd.open_workbook(os.path.abspath(filename))\n",
        "    abbreviation_sheet = abbreviation.sheet_by_name(sheetname)\n",
        "    \n",
        "    for i in range(1, abbreviation_sheet.nrows):\n",
        "        abb = abbreviation_sheet.cell(i, 0).value\n",
        "        abb_definition = abbreviation_sheet.cell(i, 1).value\n",
        "        abbreviation_dict[abb] = abb_definition\n",
        "        \n",
        "    return abbreviation_dict"
      ],
      "execution_count": 6,
      "outputs": []
    },
    {
      "cell_type": "code",
      "metadata": {
        "id": "jV0BXNzWd_Cq"
      },
      "source": [
        "stocks_dict = excel_to_dictionary(sheetname=\"Stocks\")\n",
        "fundamentals_dict = excel_to_dictionary(sheetname=\"Fundamentals\")"
      ],
      "execution_count": 7,
      "outputs": []
    },
    {
      "cell_type": "code",
      "metadata": {
        "id": "qUE9IT4GfY4h"
      },
      "source": [
        "def rename_columns(df, df_dict):\n",
        "  df.rename(columns=df_dict, inplace=True)\n",
        "  df.columns = [column.lower().replace(\" \", \"_\") for column in df.columns]\n",
        "  return df"
      ],
      "execution_count": 8,
      "outputs": []
    },
    {
      "cell_type": "code",
      "metadata": {
        "id": "hbgwC0Hrf2i0"
      },
      "source": [
        "stocks = rename_columns(stocks, stocks_dict)\n",
        "fundamentals = rename_columns(fundamentals, fundamentals_dict)"
      ],
      "execution_count": 9,
      "outputs": []
    },
    {
      "cell_type": "code",
      "metadata": {
        "id": "mp418dL5CebW",
        "colab": {
          "base_uri": "https://localhost:8080/"
        },
        "outputId": "2773ed4e-0b86-4f05-b26d-790dcd419952"
      },
      "source": [
        "initial_stocks = stocks[\"global_company_key\"].nunique()\n",
        "initial_stocks_columns = len(stocks.columns)\n",
        "print(\"The stocks data file has {} companies while the fundamentals file has {} companies\".format(initial_stocks, fundamentals[\"global_company_key\"].nunique()))"
      ],
      "execution_count": 10,
      "outputs": [
        {
          "output_type": "stream",
          "text": [
            "The stocks data file has 4632 companies while the fundamentals file has 10555 companies\n"
          ],
          "name": "stdout"
        }
      ]
    },
    {
      "cell_type": "code",
      "metadata": {
        "id": "nC_XEzqpDuLP"
      },
      "source": [
        "stocks[\"year\"] = stocks[\"data_date_-_dividends\"].apply(lambda x: x.strftime(\"%Y\"))"
      ],
      "execution_count": 11,
      "outputs": []
    },
    {
      "cell_type": "code",
      "metadata": {
        "id": "AEvwilTmOHWT"
      },
      "source": [
        "shared_stock_companies = list(set(sorted(fundamentals[\"global_company_key\"].unique())) & set(sorted(stocks[\"global_company_key\"].unique())))"
      ],
      "execution_count": 12,
      "outputs": []
    },
    {
      "cell_type": "code",
      "metadata": {
        "id": "neWsX-LsPa05"
      },
      "source": [
        "stocks = stocks[stocks[\"global_company_key\"].isin(shared_stock_companies)]\n",
        "fundamentals = fundamentals[fundamentals[\"global_company_key\"].isin(shared_stock_companies)]"
      ],
      "execution_count": 13,
      "outputs": []
    },
    {
      "cell_type": "code",
      "metadata": {
        "id": "mJA8WV8En34i"
      },
      "source": [
        "shared_stocks_columns = list(set(sorted(fundamentals.columns)) & set(sorted(stocks.columns)))"
      ],
      "execution_count": 14,
      "outputs": []
    },
    {
      "cell_type": "code",
      "metadata": {
        "id": "BSEGojji2Bu-",
        "colab": {
          "base_uri": "https://localhost:8080/"
        },
        "outputId": "feb0d4a9-3f48-4d89-b3cc-a6a94f8710cf"
      },
      "source": [
        "print(\"Stocks has dropped from {} to {} companies.\\n\\nStocks columns have dropped from {} to {}\".format(\n",
        "                                                                                                  initial_stocks, stocks[\"global_company_key\"].nunique(), \n",
        "                                                                                                  initial_stocks_columns, stocks.shape[1]))"
      ],
      "execution_count": 15,
      "outputs": [
        {
          "output_type": "stream",
          "text": [
            "Stocks has dropped from 4632 to 2462 companies.\n",
            "\n",
            "Stocks columns have dropped from 76 to 77\n"
          ],
          "name": "stdout"
        }
      ]
    },
    {
      "cell_type": "code",
      "metadata": {
        "id": "jWOHvJbF6QB5"
      },
      "source": [
        "for column in stocks[shared_stocks_columns].columns:\n",
        "  stocks.loc[stocks[column].isnull(), column] = \"not_recorded\""
      ],
      "execution_count": 16,
      "outputs": []
    },
    {
      "cell_type": "code",
      "metadata": {
        "id": "I_V4y6S3djFF",
        "colab": {
          "base_uri": "https://localhost:8080/"
        },
        "outputId": "23616465-4d14-47b8-8ffb-d6d60e4e7623"
      },
      "source": [
        "stocks.shape"
      ],
      "execution_count": 17,
      "outputs": [
        {
          "output_type": "execute_result",
          "data": {
            "text/plain": [
              "(2447018, 77)"
            ]
          },
          "metadata": {
            "tags": []
          },
          "execution_count": 17
        }
      ]
    },
    {
      "cell_type": "code",
      "metadata": {
        "id": "AhAXQysrUWH8"
      },
      "source": [
        "stocks = stocks.groupby([\"global_company_key\", \"year\"])[['price_-_close_-_daily', 'price_-_high_-_daily', 'price_-_low_-_daily', 'price_-_open_-_daily', 'price_status_code_-_daily']].agg(\"sum\").reset_index()"
      ],
      "execution_count": 18,
      "outputs": []
    },
    {
      "cell_type": "code",
      "metadata": {
        "id": "Nme3D3mVdhxx",
        "colab": {
          "base_uri": "https://localhost:8080/"
        },
        "outputId": "096130ef-da5a-4340-9ce8-fc5ee2f9361d"
      },
      "source": [
        "stocks.shape"
      ],
      "execution_count": 19,
      "outputs": [
        {
          "output_type": "execute_result",
          "data": {
            "text/plain": [
              "(10616, 7)"
            ]
          },
          "metadata": {
            "tags": []
          },
          "execution_count": 19
        }
      ]
    },
    {
      "cell_type": "code",
      "metadata": {
        "id": "Zo5NLeFYc58m"
      },
      "source": [
        "stocks = stocks.groupby([\"global_company_key\"])[['price_-_close_-_daily', 'price_-_high_-_daily', 'price_-_low_-_daily', 'price_-_open_-_daily', 'price_status_code_-_daily']].agg(\"mean\").reset_index()"
      ],
      "execution_count": 20,
      "outputs": []
    },
    {
      "cell_type": "code",
      "metadata": {
        "id": "HXvEpBESc5xz",
        "colab": {
          "base_uri": "https://localhost:8080/"
        },
        "outputId": "b03ea4d8-6f2e-4658-d045-b6938741a4ac"
      },
      "source": [
        "stocks.shape"
      ],
      "execution_count": 21,
      "outputs": [
        {
          "output_type": "execute_result",
          "data": {
            "text/plain": [
              "(2462, 6)"
            ]
          },
          "metadata": {
            "tags": []
          },
          "execution_count": 21
        }
      ]
    },
    {
      "cell_type": "code",
      "metadata": {
        "id": "c9vavkLmdxl_"
      },
      "source": [
        "fund_stocks = pd.merge(fund_security, stocks, on=\"global_company_key\")\n",
        "fund_stocks.shape"
      ],
      "execution_count": 22,
      "outputs": []
    },
    {
      "cell_type": "code",
      "metadata": {
        "id": "TcFUrRYKdxjf",
        "colab": {
          "base_uri": "https://localhost:8080/",
          "height": 258
        },
        "outputId": "1ee9c1cd-2a64-4db0-bc7c-63ce5e74de51"
      },
      "source": [
        "fund_stocks[['price_-_close_-_daily', 'price_-_high_-_daily', 'price_-_low_-_daily', 'price_-_open_-_daily', 'price_status_code_-_daily', \"global_company_key\", \"dividend_rate_-_monthly\", 'dividends_per_share_-_ex_date_-_monthly', 'dividends_per_share_-_pay_date_-_monthly', 'common_stock_float_shares_-_canada', 'iso_currency_code_-_monthly', \"settlementamount\", \"sued\", \"global_company_key\", \"ticker_symbol\"]].head()"
      ],
      "execution_count": 23,
      "outputs": [
        {
          "output_type": "execute_result",
          "data": {
            "text/html": [
              "<div>\n",
              "<style scoped>\n",
              "    .dataframe tbody tr th:only-of-type {\n",
              "        vertical-align: middle;\n",
              "    }\n",
              "\n",
              "    .dataframe tbody tr th {\n",
              "        vertical-align: top;\n",
              "    }\n",
              "\n",
              "    .dataframe thead th {\n",
              "        text-align: right;\n",
              "    }\n",
              "</style>\n",
              "<table border=\"1\" class=\"dataframe\">\n",
              "  <thead>\n",
              "    <tr style=\"text-align: right;\">\n",
              "      <th></th>\n",
              "      <th>price_-_close_-_daily</th>\n",
              "      <th>price_-_high_-_daily</th>\n",
              "      <th>price_-_low_-_daily</th>\n",
              "      <th>price_-_open_-_daily</th>\n",
              "      <th>price_status_code_-_daily</th>\n",
              "      <th>global_company_key</th>\n",
              "      <th>dividend_rate_-_monthly</th>\n",
              "      <th>dividends_per_share_-_ex_date_-_monthly</th>\n",
              "      <th>dividends_per_share_-_pay_date_-_monthly</th>\n",
              "      <th>common_stock_float_shares_-_canada</th>\n",
              "      <th>iso_currency_code_-_monthly</th>\n",
              "      <th>settlementamount</th>\n",
              "      <th>sued</th>\n",
              "      <th>global_company_key</th>\n",
              "      <th>ticker_symbol</th>\n",
              "    </tr>\n",
              "  </thead>\n",
              "  <tbody>\n",
              "    <tr>\n",
              "      <th>0</th>\n",
              "      <td>6949.33256</td>\n",
              "      <td>7025.21376</td>\n",
              "      <td>6866.63048</td>\n",
              "      <td>6798.90896</td>\n",
              "      <td>833.2</td>\n",
              "      <td>1076</td>\n",
              "      <td>0.808</td>\n",
              "      <td>0.068</td>\n",
              "      <td>0.0636</td>\n",
              "      <td>0.0</td>\n",
              "      <td>USD</td>\n",
              "      <td>NaN</td>\n",
              "      <td>no</td>\n",
              "      <td>1076</td>\n",
              "      <td>AAN</td>\n",
              "    </tr>\n",
              "    <tr>\n",
              "      <th>1</th>\n",
              "      <td>6949.33256</td>\n",
              "      <td>7025.21376</td>\n",
              "      <td>6866.63048</td>\n",
              "      <td>6798.90896</td>\n",
              "      <td>833.2</td>\n",
              "      <td>1076</td>\n",
              "      <td>0.808</td>\n",
              "      <td>0.068</td>\n",
              "      <td>0.0636</td>\n",
              "      <td>0.0</td>\n",
              "      <td>USD</td>\n",
              "      <td>NaN</td>\n",
              "      <td>no</td>\n",
              "      <td>1076</td>\n",
              "      <td>AAN</td>\n",
              "    </tr>\n",
              "    <tr>\n",
              "      <th>2</th>\n",
              "      <td>6949.33256</td>\n",
              "      <td>7025.21376</td>\n",
              "      <td>6866.63048</td>\n",
              "      <td>6798.90896</td>\n",
              "      <td>833.2</td>\n",
              "      <td>1076</td>\n",
              "      <td>0.808</td>\n",
              "      <td>0.068</td>\n",
              "      <td>0.0636</td>\n",
              "      <td>0.0</td>\n",
              "      <td>USD</td>\n",
              "      <td>NaN</td>\n",
              "      <td>no</td>\n",
              "      <td>1076</td>\n",
              "      <td>AAN</td>\n",
              "    </tr>\n",
              "    <tr>\n",
              "      <th>3</th>\n",
              "      <td>6949.33256</td>\n",
              "      <td>7025.21376</td>\n",
              "      <td>6866.63048</td>\n",
              "      <td>6798.90896</td>\n",
              "      <td>833.2</td>\n",
              "      <td>1076</td>\n",
              "      <td>0.808</td>\n",
              "      <td>0.068</td>\n",
              "      <td>0.0636</td>\n",
              "      <td>0.0</td>\n",
              "      <td>USD</td>\n",
              "      <td>NaN</td>\n",
              "      <td>no</td>\n",
              "      <td>1076</td>\n",
              "      <td>AAN</td>\n",
              "    </tr>\n",
              "    <tr>\n",
              "      <th>4</th>\n",
              "      <td>6949.33256</td>\n",
              "      <td>7025.21376</td>\n",
              "      <td>6866.63048</td>\n",
              "      <td>6798.90896</td>\n",
              "      <td>833.2</td>\n",
              "      <td>1076</td>\n",
              "      <td>0.808</td>\n",
              "      <td>0.068</td>\n",
              "      <td>0.0636</td>\n",
              "      <td>0.0</td>\n",
              "      <td>USD</td>\n",
              "      <td>NaN</td>\n",
              "      <td>no</td>\n",
              "      <td>1076</td>\n",
              "      <td>AAN</td>\n",
              "    </tr>\n",
              "  </tbody>\n",
              "</table>\n",
              "</div>"
            ],
            "text/plain": [
              "   price_-_close_-_daily  ...  ticker_symbol\n",
              "0             6949.33256  ...            AAN\n",
              "1             6949.33256  ...            AAN\n",
              "2             6949.33256  ...            AAN\n",
              "3             6949.33256  ...            AAN\n",
              "4             6949.33256  ...            AAN\n",
              "\n",
              "[5 rows x 15 columns]"
            ]
          },
          "metadata": {
            "tags": []
          },
          "execution_count": 23
        }
      ]
    },
    {
      "cell_type": "code",
      "metadata": {
        "id": "DRfncfK9Fpct"
      },
      "source": [
        "# for company in [11300, 146156, 11017]:\n",
        "#   subset = stocks_[stocks_[\"global_company_key\"] == company]\n",
        "\n",
        "#   sns.distplot(subset[\"cash_dividends_-_daily\"].dropna(), hist=False, kde=True, label=company)\n",
        "\n",
        "# plt.xlabel(\"Daily Cash Dividends\"); plt.ylabel(\"Density\");\n",
        "# plt.title(\"Density Plots for Daily Cash Dividends\")\n",
        "# plt.legend()\n",
        "\n",
        "# # stocks_[['cash_dividends_-_daily', \"global_company_key\"]].head(10)"
      ],
      "execution_count": 24,
      "outputs": []
    },
    {
      "cell_type": "code",
      "metadata": {
        "id": "s6xR0MbqTxvw"
      },
      "source": [
        "fund_stocks.to_csv(\"/content/drive/MyDrive/Fiverr/PROJECT_MIMI/Fund_Settlement_Security_Stocks.csv\", index=False)"
      ],
      "execution_count": 25,
      "outputs": []
    }
  ]
}