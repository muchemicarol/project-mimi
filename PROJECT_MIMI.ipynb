{
 "cells": [
  {
   "cell_type": "code",
   "execution_count": 1,
   "metadata": {
    "id": "rVZsMfjYE6ui"
   },
   "outputs": [],
   "source": [
    "import os\n",
    "\n",
    "import numpy as np\n",
    "import pandas as pd\n",
    "import xlrd"
   ]
  },
  {
   "cell_type": "code",
   "execution_count": 2,
   "metadata": {
    "colab": {
     "base_uri": "https://localhost:8080/"
    },
    "id": "WwDl7f73O0pZ",
    "outputId": "a6b97635-ea09-4fd7-a8fa-a8c64fa3973f"
   },
   "outputs": [
    {
     "name": "stdout",
     "output_type": "stream",
     "text": [
      "Drive already mounted at /content/drive; to attempt to forcibly remount, call drive.mount(\"/content/drive\", force_remount=True).\n"
     ]
    }
   ],
   "source": [
    "from google.colab import drive\n",
    "drive.mount('/content/drive')"
   ]
  },
  {
   "cell_type": "code",
   "execution_count": 3,
   "metadata": {
    "colab": {
     "base_uri": "https://localhost:8080/"
    },
    "id": "HxBZY4JUFNHL",
    "outputId": "7c932d92-d5d6-44b3-e653-d5f6b3e5e3aa"
   },
   "outputs": [
    {
     "name": "stderr",
     "output_type": "stream",
     "text": [
      "/usr/local/lib/python3.7/dist-packages/IPython/core/interactiveshell.py:2718: DtypeWarning: Columns (1,4,23,24,25,26,27,28,29,30,31,32,34,35,38,39,45,66,68,69,72) have mixed types.Specify dtype option on import or set low_memory=False.\n",
      "  interactivity=interactivity, compiler=compiler, result=result)\n"
     ]
    }
   ],
   "source": [
    "stocks = pd.read_csv(\"/content/drive/MyDrive/Fiverr/PROJECT_MIMI/Stocks_DS_tab_delimited.dat\", sep=\"\\t\")"
   ]
  },
  {
   "cell_type": "code",
   "execution_count": 4,
   "metadata": {
    "colab": {
     "base_uri": "https://localhost:8080/"
    },
    "id": "58Q0xIu0eeRx",
    "outputId": "e04d811a-c714-421b-95a2-25a13a586caf"
   },
   "outputs": [
    {
     "name": "stderr",
     "output_type": "stream",
     "text": [
      "/usr/local/lib/python3.7/dist-packages/IPython/core/interactiveshell.py:2718: DtypeWarning: Columns (28,850,892,893,894,895,896,897,898,899,900,901,902,903,905,906,907,908,1747,1748,1749,1750,1754,1758,1760,1761,1764) have mixed types.Specify dtype option on import or set low_memory=False.\n",
      "  interactivity=interactivity, compiler=compiler, result=result)\n"
     ]
    }
   ],
   "source": [
    "fundamentals = pd.read_csv(\"/content/drive/MyDrive/Fiverr/PROJECT_MIMI/Fundamentals_Full.csv\")"
   ]
  },
  {
   "cell_type": "code",
   "execution_count": 5,
   "metadata": {
    "colab": {
     "base_uri": "https://localhost:8080/"
    },
    "id": "xlTAL-QreeO5",
    "outputId": "74f56a48-5a4b-49e7-933b-f9312403126f"
   },
   "outputs": [
    {
     "name": "stderr",
     "output_type": "stream",
     "text": [
      "/usr/local/lib/python3.7/dist-packages/IPython/core/interactiveshell.py:2718: DtypeWarning: Columns (13,15,16) have mixed types.Specify dtype option on import or set low_memory=False.\n",
      "  interactivity=interactivity, compiler=compiler, result=result)\n"
     ]
    }
   ],
   "source": [
    "ratings = pd.read_csv(\"/content/drive/MyDrive/Fiverr/PROJECT_MIMI/Ratings_Full.csv\")"
   ]
  },
  {
   "cell_type": "code",
   "execution_count": 6,
   "metadata": {
    "colab": {
     "base_uri": "https://localhost:8080/"
    },
    "id": "4Rx-12jveeMa",
    "outputId": "f878fb2e-0c2a-41d4-83ce-b52fe3edc74f"
   },
   "outputs": [
    {
     "name": "stderr",
     "output_type": "stream",
     "text": [
      "/usr/local/lib/python3.7/dist-packages/IPython/core/interactiveshell.py:2718: DtypeWarning: Columns (42,47,48,49,50,52,53) have mixed types.Specify dtype option on import or set low_memory=False.\n",
      "  interactivity=interactivity, compiler=compiler, result=result)\n"
     ]
    }
   ],
   "source": [
    "securities = pd.read_csv(\"/content/drive/MyDrive/Fiverr/PROJECT_MIMI/Securities_Full.csv\")"
   ]
  },
  {
   "cell_type": "code",
   "execution_count": 7,
   "metadata": {
    "id": "DIPgACoXeeUf"
   },
   "outputs": [],
   "source": [
    "settlements = pd.read_excel(\"/content/drive/MyDrive/Fiverr/PROJECT_MIMI/Settlements.xlsx\", na_values=\"#NULL!\")"
   ]
  },
  {
   "cell_type": "code",
   "execution_count": 8,
   "metadata": {
    "id": "ASQdabCxGjAu"
   },
   "outputs": [],
   "source": [
    "def excel_to_dictionary(sheetname, filename=\"/content/drive/MyDrive/Fiverr/PROJECT_MIMI/DataDictionary.xlsx\"):\n",
    "    abbreviation_dict = dict()\n",
    "    \n",
    "    abbreviation = xlrd.open_workbook(os.path.abspath(filename))\n",
    "    abbreviation_sheet = abbreviation.sheet_by_name(sheetname)\n",
    "    \n",
    "    for i in range(1, abbreviation_sheet.nrows):\n",
    "        abb = abbreviation_sheet.cell(i, 0).value\n",
    "        abb_definition = abbreviation_sheet.cell(i, 1).value\n",
    "        abbreviation_dict[abb] = abb_definition\n",
    "        \n",
    "    return abbreviation_dict"
   ]
  },
  {
   "cell_type": "code",
   "execution_count": 9,
   "metadata": {
    "id": "jV0BXNzWd_Cq"
   },
   "outputs": [],
   "source": [
    "stocks_dict = excel_to_dictionary(sheetname=\"Stocks\")\n",
    "fundamentals_dict = excel_to_dictionary(sheetname=\"Fundamentals\")\n",
    "ratings_dict = excel_to_dictionary(sheetname=\"Ratings\")\n",
    "securities_dict = excel_to_dictionary(sheetname=\"Securities\")"
   ]
  },
  {
   "cell_type": "code",
   "execution_count": 10,
   "metadata": {
    "id": "qUE9IT4GfY4h"
   },
   "outputs": [],
   "source": [
    "def rename_columns(df, df_dict):\n",
    "  df.rename(columns=df_dict, inplace=True)\n",
    "  df.columns = [column.lower().replace(\" \", \"_\") for column in df.columns]\n",
    "  return df"
   ]
  },
  {
   "cell_type": "code",
   "execution_count": 11,
   "metadata": {
    "id": "hbgwC0Hrf2i0"
   },
   "outputs": [],
   "source": [
    "stocks = rename_columns(stocks, stocks_dict)\n",
    "fundamentals = rename_columns(fundamentals, fundamentals_dict)\n",
    "ratings = rename_columns(ratings, ratings_dict)\n",
    "securities = rename_columns(securities, securities_dict)"
   ]
  }
 ],
 "metadata": {
  "colab": {
   "collapsed_sections": [],
   "name": "PROJECT MIMI.ipynb",
   "provenance": []
  },
  "kernelspec": {
   "display_name": "Python 3",
   "language": "python",
   "name": "python3"
  },
  "language_info": {
   "codemirror_mode": {
    "name": "ipython",
    "version": 3
   },
   "file_extension": ".py",
   "mimetype": "text/x-python",
   "name": "python",
   "nbconvert_exporter": "python",
   "pygments_lexer": "ipython3",
   "version": "3.8.5"
  }
 },
 "nbformat": 4,
 "nbformat_minor": 1
}
