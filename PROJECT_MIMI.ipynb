{
  "nbformat": 4,
  "nbformat_minor": 0,
  "metadata": {
    "colab": {
      "name": "PROJECT MIMI.ipynb",
      "provenance": [],
      "collapsed_sections": []
    },
    "kernelspec": {
      "name": "python3",
      "display_name": "Python 3"
    },
    "language_info": {
      "name": "python"
    }
  },
  "cells": [
    {
      "cell_type": "code",
      "metadata": {
        "id": "rVZsMfjYE6ui"
      },
      "source": [
        "import os\n",
        "\n",
        "import numpy as np\n",
        "import pandas as pd\n",
        "import xlrd\n",
        "\n",
        "pd.set_option(\"display.max_rows\", 50000)"
      ],
      "execution_count": 1,
      "outputs": []
    },
    {
      "cell_type": "code",
      "metadata": {
        "id": "WwDl7f73O0pZ",
        "colab": {
          "base_uri": "https://localhost:8080/"
        },
        "outputId": "dae0554f-5d0c-46f3-9432-da7a7452f9fb"
      },
      "source": [
        "from google.colab import drive\n",
        "drive.mount('/content/drive')"
      ],
      "execution_count": 2,
      "outputs": [
        {
          "output_type": "stream",
          "text": [
            "Drive already mounted at /content/drive; to attempt to forcibly remount, call drive.mount(\"/content/drive\", force_remount=True).\n"
          ],
          "name": "stdout"
        }
      ]
    },
    {
      "cell_type": "code",
      "metadata": {
        "colab": {
          "base_uri": "https://localhost:8080/"
        },
        "id": "HxBZY4JUFNHL",
        "outputId": "787b3440-0e91-4bcc-8640-bcce4ec9d3b1"
      },
      "source": [
        "stocks = pd.read_csv(\"/content/drive/MyDrive/Fiverr/PROJECT_MIMI/Stocks_DS_tab_delimited.dat\", sep=\"\\t\", na_values=' ', parse_dates=[\"datadate\"])"
      ],
      "execution_count": 3,
      "outputs": [
        {
          "output_type": "stream",
          "text": [
            "/usr/local/lib/python3.7/dist-packages/IPython/core/interactiveshell.py:2718: DtypeWarning: Columns (1,4,6,11,14,15,16,17,18,19,20,21,38,42,43,44,45,50,52,53,60,64,65,70,71,74,75) have mixed types.Specify dtype option on import or set low_memory=False.\n",
            "  interactivity=interactivity, compiler=compiler, result=result)\n"
          ],
          "name": "stderr"
        }
      ]
    },
    {
      "cell_type": "code",
      "metadata": {
        "colab": {
          "base_uri": "https://localhost:8080/"
        },
        "id": "58Q0xIu0eeRx",
        "outputId": "3e42f55f-0e5f-4efb-830f-2b5e54d20f4b"
      },
      "source": [
        "fundamentals = pd.read_csv(\"/content/drive/MyDrive/Fiverr/PROJECT_MIMI/Fundamentals_Full.csv\", na_values=' ')"
      ],
      "execution_count": 4,
      "outputs": [
        {
          "output_type": "stream",
          "text": [
            "/usr/local/lib/python3.7/dist-packages/IPython/core/interactiveshell.py:2718: DtypeWarning: Columns (9,25,29,916,917,919,920,926,935,937,940,941,942,943,945,955,956,959,962,965,970,978,981,984,989,992,993,997,998,1008,1009,1014,1015,1016,1017,1018,1019,1020,1021,1024,1025,1028,1029,1031,1033,1034,1035,1036,1040,1041,1042,1052,1053,1054,1055,1056,1057,1058,1059,1066,1071,1072,1074,1075,1076,1077,1081,1084,1091,1094,1096,1098,1101,1102,1103,1105,1106,1107,1108,1116,1117,1119,1120,1121,1122,1123,1124,1125,1735,1736,1737,1742,1756,1757,1762) have mixed types.Specify dtype option on import or set low_memory=False.\n",
            "  interactivity=interactivity, compiler=compiler, result=result)\n"
          ],
          "name": "stderr"
        }
      ]
    },
    {
      "cell_type": "code",
      "metadata": {
        "id": "xlTAL-QreeO5"
      },
      "source": [
        "ratings = pd.read_csv(\"/content/drive/MyDrive/Fiverr/PROJECT_MIMI/Ratings_Full.csv\", na_values=' ')"
      ],
      "execution_count": 5,
      "outputs": []
    },
    {
      "cell_type": "code",
      "metadata": {
        "id": "4Rx-12jveeMa"
      },
      "source": [
        "securities = pd.read_csv(\"/content/drive/MyDrive/Fiverr/PROJECT_MIMI/Securities_Full.csv\", na_values=' ')"
      ],
      "execution_count": 6,
      "outputs": []
    },
    {
      "cell_type": "code",
      "metadata": {
        "id": "DIPgACoXeeUf"
      },
      "source": [
        "settlements = pd.read_excel(\"/content/drive/MyDrive/Fiverr/PROJECT_MIMI/Settlements.xlsx\", na_values=\"#NULL!\")"
      ],
      "execution_count": 7,
      "outputs": []
    },
    {
      "cell_type": "code",
      "metadata": {
        "id": "ASQdabCxGjAu"
      },
      "source": [
        "def excel_to_dictionary(sheetname, filename=\"/content/drive/MyDrive/Fiverr/PROJECT_MIMI/DataDictionary.xlsx\"):\n",
        "    abbreviation_dict = dict()\n",
        "    \n",
        "    abbreviation = xlrd.open_workbook(os.path.abspath(filename))\n",
        "    abbreviation_sheet = abbreviation.sheet_by_name(sheetname)\n",
        "    \n",
        "    for i in range(1, abbreviation_sheet.nrows):\n",
        "        abb = abbreviation_sheet.cell(i, 0).value\n",
        "        abb_definition = abbreviation_sheet.cell(i, 1).value\n",
        "        abbreviation_dict[abb] = abb_definition\n",
        "        \n",
        "    return abbreviation_dict"
      ],
      "execution_count": 8,
      "outputs": []
    },
    {
      "cell_type": "code",
      "metadata": {
        "id": "jV0BXNzWd_Cq"
      },
      "source": [
        "stocks_dict = excel_to_dictionary(sheetname=\"Stocks\")\n",
        "fundamentals_dict = excel_to_dictionary(sheetname=\"Fundamentals\")\n",
        "ratings_dict = excel_to_dictionary(sheetname=\"Ratings\")\n",
        "securities_dict = excel_to_dictionary(sheetname=\"Securities\")"
      ],
      "execution_count": 9,
      "outputs": []
    },
    {
      "cell_type": "code",
      "metadata": {
        "colab": {
          "base_uri": "https://localhost:8080/"
        },
        "id": "tbPgsY5GCUIa",
        "outputId": "574f4247-eaf6-4c71-8877-f15f0288cd9d"
      },
      "source": [
        "for key, value in stocks_dict.items():\n",
        "  if key in [\"prccd\", \"prchd\", \"prcld\", \"prcod\"]:\n",
        "    print(value)\n",
        "\n",
        "  # if value == \"Data Date - Dividends\":\n",
        "  #   print(key)"
      ],
      "execution_count": 10,
      "outputs": [
        {
          "output_type": "stream",
          "text": [
            "Price - Close - Daily\n",
            "Price - High - Daily\n",
            "Price - Low - Daily\n",
            "Price - Open - Daily\n"
          ],
          "name": "stdout"
        }
      ]
    },
    {
      "cell_type": "code",
      "metadata": {
        "id": "qUE9IT4GfY4h"
      },
      "source": [
        "def rename_columns(df, df_dict):\n",
        "  df.rename(columns=df_dict, inplace=True)\n",
        "  df.columns = [column.lower().replace(\" \", \"_\") for column in df.columns]\n",
        "  return df"
      ],
      "execution_count": 11,
      "outputs": []
    },
    {
      "cell_type": "code",
      "metadata": {
        "id": "hbgwC0Hrf2i0"
      },
      "source": [
        "stocks = rename_columns(stocks, stocks_dict)\n",
        "fundamentals = rename_columns(fundamentals, fundamentals_dict)\n",
        "ratings = rename_columns(ratings, ratings_dict)\n",
        "securities = rename_columns(securities, securities_dict)"
      ],
      "execution_count": 12,
      "outputs": []
    },
    {
      "cell_type": "code",
      "metadata": {
        "colab": {
          "base_uri": "https://localhost:8080/"
        },
        "id": "Bcq9eUrBmd6K",
        "outputId": "90169670-92b3-426d-ca8e-6251a5fa5d96"
      },
      "source": [
        "for name, df in zip([\"stocks\", \"fundamentals\", \"ratings\", \"securities\", \"settlements\"], [stocks, fundamentals, ratings, securities, settlements]):\n",
        "  print(\"{}: {}\\n\".format(name, df.shape[0]))"
      ],
      "execution_count": 13,
      "outputs": [
        {
          "output_type": "stream",
          "text": [
            "stocks: 4187047\n",
            "\n",
            "fundamentals: 61429\n",
            "\n",
            "ratings: 502561\n",
            "\n",
            "securities: 915386\n",
            "\n",
            "settlements: 1892\n",
            "\n"
          ],
          "name": "stdout"
        }
      ]
    },
    {
      "cell_type": "code",
      "metadata": {
        "colab": {
          "base_uri": "https://localhost:8080/"
        },
        "id": "mp418dL5CebW",
        "outputId": "8160e8e9-8e9a-4b50-b8e6-6fa99dd2592b"
      },
      "source": [
        "initial_stocks = stocks[\"global_company_key\"].nunique()\n",
        "print(\"The stocks data file has {} companies while the fundamentals file has {} companies\".format(initial_stocks, fundamentals[\"global_company_key\"].nunique()))"
      ],
      "execution_count": 14,
      "outputs": [
        {
          "output_type": "stream",
          "text": [
            "The stocks data file has 4632 companies while the fundamentals file has 10555 companies\n"
          ],
          "name": "stdout"
        }
      ]
    },
    {
      "cell_type": "code",
      "metadata": {
        "id": "nC_XEzqpDuLP"
      },
      "source": [
        "stocks[\"year\"] = stocks[\"data_date_-_dividends\"].apply(lambda x: x.strftime(\"%Y\"))"
      ],
      "execution_count": 15,
      "outputs": []
    },
    {
      "cell_type": "code",
      "metadata": {
        "id": "xDsfaS9bT55h"
      },
      "source": [
        "# stocks.isnull().sum()"
      ],
      "execution_count": 16,
      "outputs": []
    },
    {
      "cell_type": "code",
      "metadata": {
        "id": "mJA8WV8En34i"
      },
      "source": [
        "shared_stocks = list()\n",
        "\n",
        "for column in sorted(stocks.columns):\n",
        "  if column in sorted(fundamentals.columns):\n",
        "    shared_stocks.append(column)\n",
        "\n",
        "# sorted(shared_stocks)"
      ],
      "execution_count": 17,
      "outputs": []
    },
    {
      "cell_type": "code",
      "metadata": {
        "id": "AEvwilTmOHWT"
      },
      "source": [
        "shared_stock_companies = list(set(fundamentals[\"global_company_key\"].unique()) & set(stocks[\"global_company_key\"].unique()))"
      ],
      "execution_count": 18,
      "outputs": []
    },
    {
      "cell_type": "code",
      "metadata": {
        "id": "neWsX-LsPa05"
      },
      "source": [
        "stocks = stocks[stocks[\"global_company_key\"].isin(shared_stock_companies)]"
      ],
      "execution_count": 19,
      "outputs": []
    },
    {
      "cell_type": "code",
      "metadata": {
        "colab": {
          "base_uri": "https://localhost:8080/"
        },
        "id": "BSEGojji2Bu-",
        "outputId": "35122bac-3c7b-4059-d48c-68f553a4ace7"
      },
      "source": [
        "print(\"Stocks has dropped from {} to {} companies\".format(initial_stocks, stocks[\"global_company_key\"].nunique()))"
      ],
      "execution_count": 20,
      "outputs": [
        {
          "output_type": "stream",
          "text": [
            "Stocks has dropped from 4632 to 2462 companies\n"
          ],
          "name": "stdout"
        }
      ]
    },
    {
      "cell_type": "code",
      "metadata": {
        "id": "-qFehyb8scZ3"
      },
      "source": [
        "# stocks.groupby(['global_company_key',\n",
        "#  'ticker_symbol',\n",
        "#  'company_name',\n",
        "#  'stock_exchange_code',\n",
        "#  'current_iso_country_code_-_incorporation',\n",
        "#  'postal_code',\n",
        "#  's&p_business_description',\n",
        "#  'city',\n",
        "#  'company_legal_name',\n",
        "#  'active/inactive_status_marker',\n",
        "# #  'county_code',\n",
        "#  'research_co_reason_for_deletion',\n",
        "#  'employer_identification_number',\n",
        "#  'fax_number',\n",
        "#  'current_fiscal_year_end_month',\n",
        "#  'gic_groups',\n",
        "#  'gic_industries',\n",
        "#  'gic_sectors',\n",
        "#  'gic_sub-industries',\n",
        "#  'international,_domestic,_both_indicator',\n",
        "#  'current_state/province_of_incorporation_code',\n",
        "#  'current_iso_country_code_-_headquarters',\n",
        "#  'north_american_industry_classification_code',\n",
        "#  'phone_number',\n",
        "# #  'current_primary_issue_tag_-_canada',\n",
        "# #  'primary_issue_tag_-_rest_of_world',\n",
        "# #  'current_primary_issue_tag_-_us',\n",
        "# #  'standard_industry_classification_code',\n",
        "# #  's&p_industry_sector_code',\n",
        "# #  's&p_economic_sector_code',\n",
        "# #  's&p_quality_ranking_-_current',\n",
        "# #  'state/province',\n",
        "# #  'stock_ownership_code',\n",
        "# #  'web_url',\n",
        "# #  'research_company_deletion_date',\n",
        "# #  'company_initial_public_offering_date'\n",
        " \n",
        "#  ])[\"price_-_close_-_daily\"].agg(\"count\")"
      ],
      "execution_count": 21,
      "outputs": []
    }
  ]
}