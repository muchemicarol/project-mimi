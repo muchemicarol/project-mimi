{
  "nbformat": 4,
  "nbformat_minor": 0,
  "metadata": {
    "colab": {
      "name": "PROJECT_MIMI_Settlements.ipynb",
      "provenance": [],
      "collapsed_sections": []
    },
    "kernelspec": {
      "name": "python3",
      "display_name": "Python 3"
    },
    "language_info": {
      "name": "python"
    }
  },
  "cells": [
    {
      "cell_type": "code",
      "metadata": {
        "id": "TdMV8cF_MoPL"
      },
      "source": [
        "import os\n",
        "\n",
        "import matplotlib.pyplot as plt\n",
        "import numpy as np\n",
        "import pandas as pd\n",
        "import seaborn as sns\n",
        "import xlrd"
      ],
      "execution_count": 1,
      "outputs": []
    },
    {
      "cell_type": "code",
      "metadata": {
        "colab": {
          "base_uri": "https://localhost:8080/"
        },
        "id": "iZqxVD52NR0r",
        "outputId": "b75f63e6-518e-4ea4-9b4c-f4180790ddb9"
      },
      "source": [
        "from google.colab import drive\n",
        "drive.mount('/content/drive')"
      ],
      "execution_count": 2,
      "outputs": [
        {
          "output_type": "stream",
          "text": [
            "Mounted at /content/drive\n"
          ],
          "name": "stdout"
        }
      ]
    },
    {
      "cell_type": "code",
      "metadata": {
        "id": "95K5Z5l0MjJN"
      },
      "source": [
        "settlements = pd.read_excel(\"/content/drive/MyDrive/Fiverr/PROJECT_MIMI/Settlements.xlsx\", na_values=\"#NULL!\")"
      ],
      "execution_count": 3,
      "outputs": []
    },
    {
      "cell_type": "code",
      "metadata": {
        "colab": {
          "base_uri": "https://localhost:8080/"
        },
        "id": "YNel8JLYM2dS",
        "outputId": "9a161050-a5a1-47a5-80c4-6fd5734dc8b8"
      },
      "source": [
        "fundamentals = pd.read_csv(\"/content/drive/MyDrive/Fiverr/PROJECT_MIMI/Fundamentals_Full.csv\", na_values=' ')"
      ],
      "execution_count": 4,
      "outputs": [
        {
          "output_type": "stream",
          "text": [
            "/usr/local/lib/python3.7/dist-packages/IPython/core/interactiveshell.py:2718: DtypeWarning: Columns (9,25,29,916,917,919,920,926,935,937,940,941,942,943,945,955,956,959,962,965,970,978,981,984,989,992,993,997,998,1008,1009,1014,1015,1016,1017,1018,1019,1020,1021,1024,1025,1028,1029,1031,1033,1034,1035,1036,1040,1041,1042,1052,1053,1054,1055,1056,1057,1058,1059,1066,1071,1072,1074,1075,1076,1077,1081,1084,1091,1094,1096,1098,1101,1102,1103,1105,1106,1107,1108,1116,1117,1119,1120,1121,1122,1123,1124,1125,1735,1736,1737,1742,1756,1757,1762) have mixed types.Specify dtype option on import or set low_memory=False.\n",
            "  interactivity=interactivity, compiler=compiler, result=result)\n"
          ],
          "name": "stderr"
        }
      ]
    },
    {
      "cell_type": "code",
      "metadata": {
        "id": "e8GnC1JfM7jr"
      },
      "source": [
        "def excel_to_dictionary(sheetname, filename=\"/content/drive/MyDrive/Fiverr/PROJECT_MIMI/DataDictionary.xlsx\"):\n",
        "    abbreviation_dict = dict()\n",
        "    \n",
        "    abbreviation = xlrd.open_workbook(os.path.abspath(filename))\n",
        "    abbreviation_sheet = abbreviation.sheet_by_name(sheetname)\n",
        "    \n",
        "    for i in range(1, abbreviation_sheet.nrows):\n",
        "        abb = abbreviation_sheet.cell(i, 0).value\n",
        "        abb_definition = abbreviation_sheet.cell(i, 1).value\n",
        "        abbreviation_dict[abb] = abb_definition\n",
        "        \n",
        "    return abbreviation_dict"
      ],
      "execution_count": 5,
      "outputs": []
    },
    {
      "cell_type": "code",
      "metadata": {
        "id": "x4HKNKfAM-bb"
      },
      "source": [
        "fundamentals_dict = excel_to_dictionary(sheetname=\"Fundamentals\")"
      ],
      "execution_count": 6,
      "outputs": []
    },
    {
      "cell_type": "code",
      "metadata": {
        "id": "wEjmTOrEM_G9"
      },
      "source": [
        "def rename_columns(df, df_dict):\n",
        "  df.rename(columns=df_dict, inplace=True)\n",
        "  df.columns = [column.lower().replace(\" \", \"_\") for column in df.columns]\n",
        "  return df"
      ],
      "execution_count": 7,
      "outputs": []
    },
    {
      "cell_type": "code",
      "metadata": {
        "id": "YeBCmeHENCm2"
      },
      "source": [
        "fundamentals = rename_columns(fundamentals, fundamentals_dict)\n",
        "settlements.columns = [column.lower().replace(\" \", \"_\") for column in settlements.columns]\n",
        "settlements.rename(columns={\"ticker\": \"ticker_symbol\"}, inplace=True)"
      ],
      "execution_count": 8,
      "outputs": []
    },
    {
      "cell_type": "code",
      "metadata": {
        "colab": {
          "base_uri": "https://localhost:8080/",
          "height": 204
        },
        "id": "JuHngowPNaLZ",
        "outputId": "e5ef6be2-3bbb-48fb-c1c1-2887bdad6321"
      },
      "source": [
        "settlements.head()"
      ],
      "execution_count": 9,
      "outputs": [
        {
          "output_type": "execute_result",
          "data": {
            "text/html": [
              "<div>\n",
              "<style scoped>\n",
              "    .dataframe tbody tr th:only-of-type {\n",
              "        vertical-align: middle;\n",
              "    }\n",
              "\n",
              "    .dataframe tbody tr th {\n",
              "        vertical-align: top;\n",
              "    }\n",
              "\n",
              "    .dataframe thead th {\n",
              "        text-align: right;\n",
              "    }\n",
              "</style>\n",
              "<table border=\"1\" class=\"dataframe\">\n",
              "  <thead>\n",
              "    <tr style=\"text-align: right;\">\n",
              "      <th></th>\n",
              "      <th>filingname</th>\n",
              "      <th>exchange</th>\n",
              "      <th>ticker_symbol</th>\n",
              "      <th>dismissed</th>\n",
              "      <th>settlementamount</th>\n",
              "      <th>filingyear</th>\n",
              "    </tr>\n",
              "  </thead>\n",
              "  <tbody>\n",
              "    <tr>\n",
              "      <th>0</th>\n",
              "      <td>AAC Holdings, Inc.</td>\n",
              "      <td>New York SE</td>\n",
              "      <td>AAC</td>\n",
              "      <td>Ongoing</td>\n",
              "      <td>NaN</td>\n",
              "      <td>2015</td>\n",
              "    </tr>\n",
              "    <tr>\n",
              "      <th>1</th>\n",
              "      <td>Airtran Holdings, Inc.</td>\n",
              "      <td>New York SE</td>\n",
              "      <td>AAI</td>\n",
              "      <td>Yes</td>\n",
              "      <td>NaN</td>\n",
              "      <td>2011</td>\n",
              "    </tr>\n",
              "    <tr>\n",
              "      <th>2</th>\n",
              "      <td>Altisource Asset Management Corporation</td>\n",
              "      <td>New York SE</td>\n",
              "      <td>AAMC</td>\n",
              "      <td>Ongoing</td>\n",
              "      <td>NaN</td>\n",
              "      <td>2015</td>\n",
              "    </tr>\n",
              "    <tr>\n",
              "      <th>3</th>\n",
              "      <td>APPLE Computer, Inc.</td>\n",
              "      <td>NASDAQ</td>\n",
              "      <td>AAPL</td>\n",
              "      <td>No</td>\n",
              "      <td>16500000.0</td>\n",
              "      <td>2006</td>\n",
              "    </tr>\n",
              "    <tr>\n",
              "      <th>4</th>\n",
              "      <td>Avalanche Biotechnologies, Inc.</td>\n",
              "      <td>NASDAQ</td>\n",
              "      <td>AAVL</td>\n",
              "      <td>Ongoing</td>\n",
              "      <td>NaN</td>\n",
              "      <td>2015</td>\n",
              "    </tr>\n",
              "  </tbody>\n",
              "</table>\n",
              "</div>"
            ],
            "text/plain": [
              "                                filingname  ... filingyear\n",
              "0                       AAC Holdings, Inc.  ...       2015\n",
              "1                   Airtran Holdings, Inc.  ...       2011\n",
              "2  Altisource Asset Management Corporation  ...       2015\n",
              "3                     APPLE Computer, Inc.  ...       2006\n",
              "4          Avalanche Biotechnologies, Inc.  ...       2015\n",
              "\n",
              "[5 rows x 6 columns]"
            ]
          },
          "metadata": {
            "tags": []
          },
          "execution_count": 9
        }
      ]
    },
    {
      "cell_type": "code",
      "metadata": {
        "id": "HP9viDjXP_yb"
      },
      "source": [
        "settlements = settlements.sort_values(by=[\"ticker_symbol\", \"settlementamount\", \"filingyear\"], ascending=[True, False, False])"
      ],
      "execution_count": 10,
      "outputs": []
    },
    {
      "cell_type": "code",
      "metadata": {
        "id": "KHeKhsKDP76D",
        "colab": {
          "base_uri": "https://localhost:8080/"
        },
        "outputId": "f43be0ae-15e1-4bad-c0f9-a81feb979258"
      },
      "source": [
        "fundamentals[\"sued\"] = np.where(fundamentals[\"ticker_symbol\"].isin(list(set(sorted(fundamentals[\"ticker_symbol\"].unique())) & set(sorted(settlements[\"ticker_symbol\"].unique())))), \"yes\", \"no\")\n",
        "fundamentals[\"sued\"].unique()"
      ],
      "execution_count": 11,
      "outputs": [
        {
          "output_type": "execute_result",
          "data": {
            "text/plain": [
              "array(['no', 'yes'], dtype=object)"
            ]
          },
          "metadata": {
            "tags": []
          },
          "execution_count": 11
        }
      ]
    },
    {
      "cell_type": "code",
      "metadata": {
        "colab": {
          "base_uri": "https://localhost:8080/",
          "height": 142
        },
        "id": "OieOjxOmBGBI",
        "outputId": "40461ba5-382d-4bcb-f6fa-ef97432edd31"
      },
      "source": [
        "settlements[settlements[\"ticker_symbol\"] == \"AMTD\"]"
      ],
      "execution_count": 12,
      "outputs": [
        {
          "output_type": "execute_result",
          "data": {
            "text/html": [
              "<div>\n",
              "<style scoped>\n",
              "    .dataframe tbody tr th:only-of-type {\n",
              "        vertical-align: middle;\n",
              "    }\n",
              "\n",
              "    .dataframe tbody tr th {\n",
              "        vertical-align: top;\n",
              "    }\n",
              "\n",
              "    .dataframe thead th {\n",
              "        text-align: right;\n",
              "    }\n",
              "</style>\n",
              "<table border=\"1\" class=\"dataframe\">\n",
              "  <thead>\n",
              "    <tr style=\"text-align: right;\">\n",
              "      <th></th>\n",
              "      <th>filingname</th>\n",
              "      <th>exchange</th>\n",
              "      <th>ticker_symbol</th>\n",
              "      <th>dismissed</th>\n",
              "      <th>settlementamount</th>\n",
              "      <th>filingyear</th>\n",
              "    </tr>\n",
              "  </thead>\n",
              "  <tbody>\n",
              "    <tr>\n",
              "      <th>86</th>\n",
              "      <td>TD Ameritrade Holding Corporation</td>\n",
              "      <td>New York SE</td>\n",
              "      <td>AMTD</td>\n",
              "      <td>Ongoing</td>\n",
              "      <td>NaN</td>\n",
              "      <td>2014</td>\n",
              "    </tr>\n",
              "    <tr>\n",
              "      <th>87</th>\n",
              "      <td>TD Ameritrade Holding Corporation</td>\n",
              "      <td>New York SE</td>\n",
              "      <td>AMTD</td>\n",
              "      <td>Ongoing</td>\n",
              "      <td>NaN</td>\n",
              "      <td>2014</td>\n",
              "    </tr>\n",
              "    <tr>\n",
              "      <th>85</th>\n",
              "      <td>TD Ameritrade Holding Corporation : Auction Ra...</td>\n",
              "      <td>NASDAQ</td>\n",
              "      <td>AMTD</td>\n",
              "      <td>Yes</td>\n",
              "      <td>NaN</td>\n",
              "      <td>2008</td>\n",
              "    </tr>\n",
              "  </tbody>\n",
              "</table>\n",
              "</div>"
            ],
            "text/plain": [
              "                                           filingname  ... filingyear\n",
              "86                  TD Ameritrade Holding Corporation  ...       2014\n",
              "87                  TD Ameritrade Holding Corporation  ...       2014\n",
              "85  TD Ameritrade Holding Corporation : Auction Ra...  ...       2008\n",
              "\n",
              "[3 rows x 6 columns]"
            ]
          },
          "metadata": {
            "tags": []
          },
          "execution_count": 12
        }
      ]
    },
    {
      "cell_type": "code",
      "metadata": {
        "id": "L4bbIFf_2_pt"
      },
      "source": [
        "settlements = settlements.drop_duplicates(subset=[\"ticker_symbol\"], keep=\"first\")\n",
        "settlements = settlements[[\"ticker_symbol\", \"settlementamount\"]]"
      ],
      "execution_count": 13,
      "outputs": []
    },
    {
      "cell_type": "code",
      "metadata": {
        "id": "JKxYyC5f0lGB"
      },
      "source": [
        "fund_settlement = pd.merge(fundamentals, settlements, how=\"left\", on=\"ticker_symbol\")"
      ],
      "execution_count": 14,
      "outputs": []
    },
    {
      "cell_type": "code",
      "metadata": {
        "colab": {
          "base_uri": "https://localhost:8080/"
        },
        "id": "jwpujtZl1OW9",
        "outputId": "f1847182-cb5b-4466-e1ae-a5023dddc283"
      },
      "source": [
        "fund_settlement.shape"
      ],
      "execution_count": 15,
      "outputs": [
        {
          "output_type": "execute_result",
          "data": {
            "text/plain": [
              "(61429, 1770)"
            ]
          },
          "metadata": {
            "tags": []
          },
          "execution_count": 15
        }
      ]
    },
    {
      "cell_type": "code",
      "metadata": {
        "id": "7oAt24kx1SFl"
      },
      "source": [
        "fund_settlement.to_csv(\"/content/drive/MyDrive/Fiverr/PROJECT_MIMI/Fund_Settlement.csv\", index=False)"
      ],
      "execution_count": 16,
      "outputs": []
    },
    {
      "cell_type": "code",
      "metadata": {
        "colab": {
          "base_uri": "https://localhost:8080/",
          "height": 49
        },
        "id": "8T-GMKS0Vbwq",
        "outputId": "93b8b381-45c4-46c5-8543-2952b6fcd4b5"
      },
      "source": [
        "settlements[settlements[\"ticker_symbol\"] == \"AAN\"]"
      ],
      "execution_count": 17,
      "outputs": [
        {
          "output_type": "execute_result",
          "data": {
            "text/html": [
              "<div>\n",
              "<style scoped>\n",
              "    .dataframe tbody tr th:only-of-type {\n",
              "        vertical-align: middle;\n",
              "    }\n",
              "\n",
              "    .dataframe tbody tr th {\n",
              "        vertical-align: top;\n",
              "    }\n",
              "\n",
              "    .dataframe thead th {\n",
              "        text-align: right;\n",
              "    }\n",
              "</style>\n",
              "<table border=\"1\" class=\"dataframe\">\n",
              "  <thead>\n",
              "    <tr style=\"text-align: right;\">\n",
              "      <th></th>\n",
              "      <th>ticker_symbol</th>\n",
              "      <th>settlementamount</th>\n",
              "    </tr>\n",
              "  </thead>\n",
              "  <tbody>\n",
              "  </tbody>\n",
              "</table>\n",
              "</div>"
            ],
            "text/plain": [
              "Empty DataFrame\n",
              "Columns: [ticker_symbol, settlementamount]\n",
              "Index: []"
            ]
          },
          "metadata": {
            "tags": []
          },
          "execution_count": 17
        }
      ]
    },
    {
      "cell_type": "code",
      "metadata": {
        "colab": {
          "base_uri": "https://localhost:8080/"
        },
        "id": "3JaStQRyadhN",
        "outputId": "908cca2d-bcc0-4a8d-aaa8-6d630fd33260"
      },
      "source": [
        "fund_settlement.shape"
      ],
      "execution_count": 18,
      "outputs": [
        {
          "output_type": "execute_result",
          "data": {
            "text/plain": [
              "(61429, 1770)"
            ]
          },
          "metadata": {
            "tags": []
          },
          "execution_count": 18
        }
      ]
    }
  ]
}